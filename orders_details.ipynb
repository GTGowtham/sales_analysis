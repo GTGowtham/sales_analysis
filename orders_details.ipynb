{
 "cells": [
  {
   "cell_type": "code",
   "execution_count": 2,
   "metadata": {},
   "outputs": [],
   "source": [
    "import pandas as pd\n",
    "import matplotlib.pyplot as plt"
   ]
  },
  {
   "cell_type": "code",
   "execution_count": 3,
   "metadata": {},
   "outputs": [
    {
     "name": "stderr",
     "output_type": "stream",
     "text": [
      "<>:1: SyntaxWarning: invalid escape sequence '\\d'\n",
      "<>:2: SyntaxWarning: invalid escape sequence '\\d'\n",
      "<>:1: SyntaxWarning: invalid escape sequence '\\d'\n",
      "<>:2: SyntaxWarning: invalid escape sequence '\\d'\n",
      "C:\\Users\\gowth\\AppData\\Local\\Temp\\ipykernel_3228\\1789384759.py:1: SyntaxWarning: invalid escape sequence '\\d'\n",
      "  df=pd.read_csv(\"D:\\dataset for  practice\\orders_details\\Orders.csv\")\n",
      "C:\\Users\\gowth\\AppData\\Local\\Temp\\ipykernel_3228\\1789384759.py:2: SyntaxWarning: invalid escape sequence '\\d'\n",
      "  dfv=pd.read_csv(\"D:\\dataset for  practice\\orders_details\\Details.csv\")\n"
     ]
    },
    {
     "data": {
      "text/html": [
       "<div>\n",
       "<style scoped>\n",
       "    .dataframe tbody tr th:only-of-type {\n",
       "        vertical-align: middle;\n",
       "    }\n",
       "\n",
       "    .dataframe tbody tr th {\n",
       "        vertical-align: top;\n",
       "    }\n",
       "\n",
       "    .dataframe thead th {\n",
       "        text-align: right;\n",
       "    }\n",
       "</style>\n",
       "<table border=\"1\" class=\"dataframe\">\n",
       "  <thead>\n",
       "    <tr style=\"text-align: right;\">\n",
       "      <th></th>\n",
       "      <th>Order ID</th>\n",
       "      <th>Amount</th>\n",
       "      <th>Profit</th>\n",
       "      <th>Quantity</th>\n",
       "      <th>Category</th>\n",
       "      <th>Sub-Category</th>\n",
       "      <th>PaymentMode</th>\n",
       "    </tr>\n",
       "  </thead>\n",
       "  <tbody>\n",
       "    <tr>\n",
       "      <th>0</th>\n",
       "      <td>B-25681</td>\n",
       "      <td>1096</td>\n",
       "      <td>658</td>\n",
       "      <td>7</td>\n",
       "      <td>Electronics</td>\n",
       "      <td>Electronic Games</td>\n",
       "      <td>COD</td>\n",
       "    </tr>\n",
       "    <tr>\n",
       "      <th>1</th>\n",
       "      <td>B-26055</td>\n",
       "      <td>5729</td>\n",
       "      <td>64</td>\n",
       "      <td>14</td>\n",
       "      <td>Furniture</td>\n",
       "      <td>Chairs</td>\n",
       "      <td>EMI</td>\n",
       "    </tr>\n",
       "    <tr>\n",
       "      <th>2</th>\n",
       "      <td>B-25955</td>\n",
       "      <td>2927</td>\n",
       "      <td>146</td>\n",
       "      <td>8</td>\n",
       "      <td>Furniture</td>\n",
       "      <td>Bookcases</td>\n",
       "      <td>EMI</td>\n",
       "    </tr>\n",
       "  </tbody>\n",
       "</table>\n",
       "</div>"
      ],
      "text/plain": [
       "  Order ID  Amount  Profit  Quantity     Category      Sub-Category  \\\n",
       "0  B-25681    1096     658         7  Electronics  Electronic Games   \n",
       "1  B-26055    5729      64        14    Furniture            Chairs   \n",
       "2  B-25955    2927     146         8    Furniture         Bookcases   \n",
       "\n",
       "  PaymentMode  \n",
       "0         COD  \n",
       "1         EMI  \n",
       "2         EMI  "
      ]
     },
     "execution_count": 3,
     "metadata": {},
     "output_type": "execute_result"
    }
   ],
   "source": [
    "df=pd.read_csv(\"D:\\dataset for  practice\\orders_details\\Orders.csv\")\n",
    "dfv=pd.read_csv(\"D:\\dataset for  practice\\orders_details\\Details.csv\")\n",
    "dfv.head(3)"
   ]
  },
  {
   "cell_type": "code",
   "execution_count": 4,
   "metadata": {},
   "outputs": [
    {
     "data": {
      "text/html": [
       "<div>\n",
       "<style scoped>\n",
       "    .dataframe tbody tr th:only-of-type {\n",
       "        vertical-align: middle;\n",
       "    }\n",
       "\n",
       "    .dataframe tbody tr th {\n",
       "        vertical-align: top;\n",
       "    }\n",
       "\n",
       "    .dataframe thead th {\n",
       "        text-align: right;\n",
       "    }\n",
       "</style>\n",
       "<table border=\"1\" class=\"dataframe\">\n",
       "  <thead>\n",
       "    <tr style=\"text-align: right;\">\n",
       "      <th></th>\n",
       "      <th>Order ID</th>\n",
       "      <th>Amount</th>\n",
       "      <th>Profit</th>\n",
       "      <th>Quantity</th>\n",
       "      <th>Category</th>\n",
       "      <th>Sub-Category</th>\n",
       "      <th>PaymentMode</th>\n",
       "    </tr>\n",
       "  </thead>\n",
       "  <tbody>\n",
       "    <tr>\n",
       "      <th>0</th>\n",
       "      <td>B-25681</td>\n",
       "      <td>1096</td>\n",
       "      <td>658</td>\n",
       "      <td>7</td>\n",
       "      <td>Electronics</td>\n",
       "      <td>Electronic Games</td>\n",
       "      <td>COD</td>\n",
       "    </tr>\n",
       "    <tr>\n",
       "      <th>1</th>\n",
       "      <td>B-26055</td>\n",
       "      <td>5729</td>\n",
       "      <td>64</td>\n",
       "      <td>14</td>\n",
       "      <td>Furniture</td>\n",
       "      <td>Chairs</td>\n",
       "      <td>EMI</td>\n",
       "    </tr>\n",
       "    <tr>\n",
       "      <th>2</th>\n",
       "      <td>B-25955</td>\n",
       "      <td>2927</td>\n",
       "      <td>146</td>\n",
       "      <td>8</td>\n",
       "      <td>Furniture</td>\n",
       "      <td>Bookcases</td>\n",
       "      <td>EMI</td>\n",
       "    </tr>\n",
       "  </tbody>\n",
       "</table>\n",
       "</div>"
      ],
      "text/plain": [
       "  Order ID  Amount  Profit  Quantity     Category      Sub-Category  \\\n",
       "0  B-25681    1096     658         7  Electronics  Electronic Games   \n",
       "1  B-26055    5729      64        14    Furniture            Chairs   \n",
       "2  B-25955    2927     146         8    Furniture         Bookcases   \n",
       "\n",
       "  PaymentMode  \n",
       "0         COD  \n",
       "1         EMI  \n",
       "2         EMI  "
      ]
     },
     "execution_count": 4,
     "metadata": {},
     "output_type": "execute_result"
    }
   ],
   "source": [
    "dfv.head(3)\n"
   ]
  },
  {
   "cell_type": "code",
   "execution_count": 5,
   "metadata": {},
   "outputs": [
    {
     "name": "stdout",
     "output_type": "stream",
     "text": [
      "Before merge: <class 'pandas.core.frame.DataFrame'> <class 'pandas.core.frame.DataFrame'>\n"
     ]
    }
   ],
   "source": [
    "print(\"Before merge:\", type(df), type(dfv))\n"
   ]
  },
  {
   "cell_type": "code",
   "execution_count": 6,
   "metadata": {},
   "outputs": [
    {
     "name": "stdout",
     "output_type": "stream",
     "text": [
      "     Order ID  Order Date CustomerName           State       City  Amount  \\\n",
      "0     B-25601  01-04-2018       Bharat         Gujarat  Ahmedabad      80   \n",
      "1     B-25601  01-04-2018       Bharat         Gujarat  Ahmedabad      66   \n",
      "2     B-25601  01-04-2018       Bharat         Gujarat  Ahmedabad    1275   \n",
      "3     B-25601  01-04-2018       Bharat         Gujarat  Ahmedabad       8   \n",
      "4     B-25602  01-04-2018       Vrinda     Maharashtra       Pune    2617   \n",
      "...       ...         ...          ...             ...        ...     ...   \n",
      "1495  B-26099  30-03-2018       Bhishm     Maharashtra     Mumbai    2366   \n",
      "1496  B-26099  30-03-2018       Bhishm     Maharashtra     Mumbai       9   \n",
      "1497  B-26100  31-03-2018       Hitika  Madhya Pradesh     Indore     828   \n",
      "1498  B-26100  31-03-2018       Hitika  Madhya Pradesh     Indore      34   \n",
      "1499  B-26100  31-03-2018       Hitika  Madhya Pradesh     Indore      72   \n",
      "\n",
      "      Profit  Quantity     Category      Sub-Category  PaymentMode  \n",
      "0        -56         4  Electronics  Electronic Games          UPI  \n",
      "1        -12         5     Clothing             Stole          UPI  \n",
      "2       1148         7    Furniture         Bookcases          EMI  \n",
      "3         -2         3     Clothing       Hankerchief  Credit Card  \n",
      "4       1151         4  Electronics            Phones  Credit Card  \n",
      "...      ...       ...          ...               ...          ...  \n",
      "1495     552         5     Clothing          Trousers          UPI  \n",
      "1496       3         1     Clothing             Skirt          COD  \n",
      "1497     230         2    Furniture            Chairs          COD  \n",
      "1498      10         2     Clothing           T-shirt   Debit Card  \n",
      "1499      16         2     Clothing             Shirt          COD  \n",
      "\n",
      "[1500 rows x 11 columns]\n"
     ]
    }
   ],
   "source": [
    "merged_df=pd.merge(df,dfv,on=\"Order ID\", how=\"outer\")\n",
    "print(merged_df)\n",
    "\n",
    "\n"
   ]
  },
  {
   "cell_type": "code",
   "execution_count": 7,
   "metadata": {},
   "outputs": [
    {
     "data": {
      "text/html": [
       "<div>\n",
       "<style scoped>\n",
       "    .dataframe tbody tr th:only-of-type {\n",
       "        vertical-align: middle;\n",
       "    }\n",
       "\n",
       "    .dataframe tbody tr th {\n",
       "        vertical-align: top;\n",
       "    }\n",
       "\n",
       "    .dataframe thead th {\n",
       "        text-align: right;\n",
       "    }\n",
       "</style>\n",
       "<table border=\"1\" class=\"dataframe\">\n",
       "  <thead>\n",
       "    <tr style=\"text-align: right;\">\n",
       "      <th></th>\n",
       "      <th>Amount</th>\n",
       "      <th>Profit</th>\n",
       "      <th>Quantity</th>\n",
       "    </tr>\n",
       "  </thead>\n",
       "  <tbody>\n",
       "    <tr>\n",
       "      <th>count</th>\n",
       "      <td>1500.000000</td>\n",
       "      <td>1500.00000</td>\n",
       "      <td>1500.000000</td>\n",
       "    </tr>\n",
       "    <tr>\n",
       "      <th>mean</th>\n",
       "      <td>291.847333</td>\n",
       "      <td>24.64200</td>\n",
       "      <td>3.743333</td>\n",
       "    </tr>\n",
       "    <tr>\n",
       "      <th>std</th>\n",
       "      <td>461.924620</td>\n",
       "      <td>168.55881</td>\n",
       "      <td>2.184942</td>\n",
       "    </tr>\n",
       "    <tr>\n",
       "      <th>min</th>\n",
       "      <td>4.000000</td>\n",
       "      <td>-1981.00000</td>\n",
       "      <td>1.000000</td>\n",
       "    </tr>\n",
       "    <tr>\n",
       "      <th>25%</th>\n",
       "      <td>47.750000</td>\n",
       "      <td>-12.00000</td>\n",
       "      <td>2.000000</td>\n",
       "    </tr>\n",
       "    <tr>\n",
       "      <th>50%</th>\n",
       "      <td>122.000000</td>\n",
       "      <td>8.00000</td>\n",
       "      <td>3.000000</td>\n",
       "    </tr>\n",
       "    <tr>\n",
       "      <th>75%</th>\n",
       "      <td>326.250000</td>\n",
       "      <td>38.00000</td>\n",
       "      <td>5.000000</td>\n",
       "    </tr>\n",
       "    <tr>\n",
       "      <th>max</th>\n",
       "      <td>5729.000000</td>\n",
       "      <td>1864.00000</td>\n",
       "      <td>14.000000</td>\n",
       "    </tr>\n",
       "  </tbody>\n",
       "</table>\n",
       "</div>"
      ],
      "text/plain": [
       "            Amount      Profit     Quantity\n",
       "count  1500.000000  1500.00000  1500.000000\n",
       "mean    291.847333    24.64200     3.743333\n",
       "std     461.924620   168.55881     2.184942\n",
       "min       4.000000 -1981.00000     1.000000\n",
       "25%      47.750000   -12.00000     2.000000\n",
       "50%     122.000000     8.00000     3.000000\n",
       "75%     326.250000    38.00000     5.000000\n",
       "max    5729.000000  1864.00000    14.000000"
      ]
     },
     "execution_count": 7,
     "metadata": {},
     "output_type": "execute_result"
    }
   ],
   "source": [
    "merged_df.describe()"
   ]
  },
  {
   "cell_type": "code",
   "execution_count": 8,
   "metadata": {},
   "outputs": [
    {
     "name": "stdout",
     "output_type": "stream",
     "text": [
      "Index(['Order ID', 'Order Date', 'CustomerName', 'State', 'City', 'Amount',\n",
      "       'Profit', 'Quantity', 'Category', 'Sub-Category', 'PaymentMode'],\n",
      "      dtype='object')\n",
      "Order ID, Order Date, CustomerName, State, City, Amount, Profit, Quantity, Category, Sub-Category, PaymentMode\n"
     ]
    }
   ],
   "source": [
    "print(merged_df.columns)\n",
    "column_list=list(merged_df.columns)\n",
    "formatted_columns = ', '.join(column_list)\n",
    "print(formatted_columns)\n"
   ]
  },
  {
   "cell_type": "code",
   "execution_count": 9,
   "metadata": {},
   "outputs": [
    {
     "data": {
      "text/plain": [
       "Order ID        object\n",
       "Order Date      object\n",
       "CustomerName    object\n",
       "State           object\n",
       "City            object\n",
       "Amount           int64\n",
       "Profit           int64\n",
       "Quantity         int64\n",
       "Category        object\n",
       "Sub-Category    object\n",
       "PaymentMode     object\n",
       "dtype: object"
      ]
     },
     "execution_count": 9,
     "metadata": {},
     "output_type": "execute_result"
    }
   ],
   "source": [
    "merged_df.shape\n",
    "merged_df.dtypes"
   ]
  },
  {
   "cell_type": "code",
   "execution_count": 10,
   "metadata": {},
   "outputs": [
    {
     "name": "stdout",
     "output_type": "stream",
     "text": [
      "2\n",
      "     Order ID  Order Date CustomerName           State       City  Amount  \\\n",
      "0     B-25601  01-04-2018       Bharat         Gujarat  Ahmedabad      80   \n",
      "1     B-25601  01-04-2018       Bharat         Gujarat  Ahmedabad      66   \n",
      "2     B-25601  01-04-2018       Bharat         Gujarat  Ahmedabad    1275   \n",
      "3     B-25601  01-04-2018       Bharat         Gujarat  Ahmedabad       8   \n",
      "4     B-25602  01-04-2018       Vrinda     Maharashtra       Pune    2617   \n",
      "...       ...         ...          ...             ...        ...     ...   \n",
      "1495  B-26099  30-03-2018       Bhishm     Maharashtra     Mumbai    2366   \n",
      "1496  B-26099  30-03-2018       Bhishm     Maharashtra     Mumbai       9   \n",
      "1497  B-26100  31-03-2018       Hitika  Madhya Pradesh     Indore     828   \n",
      "1498  B-26100  31-03-2018       Hitika  Madhya Pradesh     Indore      34   \n",
      "1499  B-26100  31-03-2018       Hitika  Madhya Pradesh     Indore      72   \n",
      "\n",
      "      Profit  Quantity     Category      Sub-Category  \n",
      "0        -56         4  Electronics  Electronic Games  \n",
      "1        -12         5     Clothing             Stole  \n",
      "2       1148         7    Furniture         Bookcases  \n",
      "3         -2         3     Clothing       Hankerchief  \n",
      "4       1151         4  Electronics            Phones  \n",
      "...      ...       ...          ...               ...  \n",
      "1495     552         5     Clothing          Trousers  \n",
      "1496       3         1     Clothing             Skirt  \n",
      "1497     230         2    Furniture            Chairs  \n",
      "1498      10         2     Clothing           T-shirt  \n",
      "1499      16         2     Clothing             Shirt  \n",
      "\n",
      "[1500 rows x 10 columns]\n"
     ]
    }
   ],
   "source": [
    "print(merged_df.ndim)\n",
    "merged_df_iloc=merged_df.iloc[:,:-1]# remove last column in table or dataset\n",
    "print(merged_df_iloc)"
   ]
  },
  {
   "cell_type": "code",
   "execution_count": 11,
   "metadata": {},
   "outputs": [
    {
     "name": "stdout",
     "output_type": "stream",
     "text": [
      "object\n",
      "0              Gujarat\n",
      "1              Gujarat\n",
      "2              Gujarat\n",
      "3              Gujarat\n",
      "4          Maharashtra\n",
      "             ...      \n",
      "1495       Maharashtra\n",
      "1496       Maharashtra\n",
      "1497    Madhya Pradesh\n",
      "1498    Madhya Pradesh\n",
      "1499    Madhya Pradesh\n",
      "Name: State, Length: 1500, dtype: string\n"
     ]
    }
   ],
   "source": [
    "print(merged_df['State'].dtypes)\n",
    "merged_df['State']=merged_df['State'].astype(pd.StringDtype())\n",
    "\n",
    "\n",
    "merged_df['State'].dtypes\n",
    "print(merged_df['State'])\n"
   ]
  },
  {
   "cell_type": "code",
   "execution_count": 12,
   "metadata": {},
   "outputs": [
    {
     "data": {
      "text/plain": [
       "0     01-04-2018\n",
       "1     01-04-2018\n",
       "2     01-04-2018\n",
       "3     01-04-2018\n",
       "4     01-04-2018\n",
       "5     01-04-2018\n",
       "6     01-04-2018\n",
       "7     01-04-2018\n",
       "8     01-04-2018\n",
       "9     03-04-2018\n",
       "10    03-04-2018\n",
       "11    03-04-2018\n",
       "12    03-04-2018\n",
       "13    03-04-2018\n",
       "14    03-04-2018\n",
       "15    03-04-2018\n",
       "16    03-04-2018\n",
       "17    03-04-2018\n",
       "18    03-04-2018\n",
       "Name: Order Date, dtype: object"
      ]
     },
     "execution_count": 12,
     "metadata": {},
     "output_type": "execute_result"
    }
   ],
   "source": [
    "merged_df['Order Date'].dtypes\n",
    "merged_df['Order Date'].head(19)\n",
    "#merged_df['Order Date'] = pd.to_datetime(df['Order Date'], format='%d-%m-%y')\n"
   ]
  },
  {
   "cell_type": "code",
   "execution_count": 16,
   "metadata": {},
   "outputs": [
    {
     "data": {
      "image/png": "[encoded data removed]",
      "text/plain": [
       "<Figure size 1600x600 with 1 Axes>"
      ]
     },
     "metadata": {},
     "output_type": "display_data"
    }
   ],
   "source": [
    "plt.figure(figsize=(16, 6))\n",
    "plt.bar(merged_df['State'],merged_df['Profit'], color='maroon')\n",
    "plt.title(\"Sales and order details\")\n",
    "plt.xlabel('State')\n",
    "plt.ylabel('Profit')\n",
    "plt.xticks(rotation=45, ha='right')\n",
    "plt.show()"
   ]
  },
  {
   "cell_type": "code",
   "execution_count": 14,
   "metadata": {},
   "outputs": [
    {
     "name": "stderr",
     "output_type": "stream",
     "text": [
      "C:\\Users\\gowth\\AppData\\Local\\Temp\\ipykernel_3228\\2834568450.py:1: FutureWarning: <class 'pandas.core.arrays.string_.StringArray'>._reduce will require a `keepdims` parameter in the future\n",
      "  merged_df.max()\n"
     ]
    },
    {
     "data": {
      "text/plain": [
       "Order ID            B-26100\n",
       "Order Date       31-12-2018\n",
       "CustomerName         Yohann\n",
       "State           West Bengal\n",
       "City                Udaipur\n",
       "Amount                 5729\n",
       "Profit                 1864\n",
       "Quantity                 14\n",
       "Category          Furniture\n",
       "Sub-Category       Trousers\n",
       "PaymentMode             UPI\n",
       "dtype: object"
      ]
     },
     "execution_count": 14,
     "metadata": {},
     "output_type": "execute_result"
    }
   ],
   "source": [
    "merged_df.max()\n"
   ]
  },
  {
   "cell_type": "code",
   "execution_count": 15,
   "metadata": {},
   "outputs": [
    {
     "name": "stderr",
     "output_type": "stream",
     "text": [
      "C:\\Users\\gowth\\AppData\\Local\\Temp\\ipykernel_3228\\1159104173.py:1: FutureWarning: <class 'pandas.core.arrays.string_.StringArray'>._reduce will require a `keepdims` parameter in the future\n",
      "  merged_df.min()\n"
     ]
    },
    {
     "data": {
      "text/plain": [
       "Order ID               B-25601\n",
       "Order Date          01-01-2018\n",
       "CustomerName         Aakanksha\n",
       "State           Andhra Pradesh\n",
       "City                 Ahmedabad\n",
       "Amount                       4\n",
       "Profit                   -1981\n",
       "Quantity                     1\n",
       "Category              Clothing\n",
       "Sub-Category       Accessories\n",
       "PaymentMode                COD\n",
       "dtype: object"
      ]
     },
     "execution_count": 15,
     "metadata": {},
     "output_type": "execute_result"
    }
   ],
   "source": [
    "merged_df.min()"
   ]
  }
 ],
 "metadata": {
  "kernelspec": {
   "display_name": "Python 3",
   "language": "python",
   "name": "python3"
  },
  "language_info": {
   "codemirror_mode": {
    "name": "ipython",
    "version": 3
   },
   "file_extension": ".py",
   "mimetype": "text/x-python",
   "name": "python",
   "nbconvert_exporter": "python",
   "pygments_lexer": "ipython3",
   "version": "3.12.0"
  }
 },
 "nbformat": 4,
 "nbformat_minor": 2
}
